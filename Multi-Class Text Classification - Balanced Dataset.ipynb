{
 "cells": [
  {
   "cell_type": "markdown",
   "metadata": {},
   "source": [
    "# Multi-Class Text Classification - Balanced Dataset"
   ]
  },
  {
   "cell_type": "markdown",
   "metadata": {},
   "source": [
    "Inspired by Susan Li's tutorial: https://towardsdatascience.com/multi-class-text-classification-model-comparison-and-selection-5eb066197568"
   ]
  },
  {
   "cell_type": "markdown",
   "metadata": {},
   "source": [
    "In this notebook, we are using a large dataset of Stack Overflow questions and tags. It's available at this Cloud Storage URL: https://storage.googleapis.com/tensorflow-workshop-examples/stack-overflow-data.csv."
   ]
  },
  {
   "cell_type": "markdown",
   "metadata": {},
   "source": [
    "The goal of this notebook is to predict the 'tags' according to the content of a 'post'. In other words:\n",
    "- Input: post\n",
    "- Output: tags"
   ]
  },
  {
   "cell_type": "markdown",
   "metadata": {},
   "source": [
    "## Exploring the dataset"
   ]
  },
  {
   "cell_type": "code",
   "execution_count": 1,
   "metadata": {},
   "outputs": [
    {
     "name": "stdout",
     "output_type": "stream",
     "text": [
      "Dataframe shape: (40000, 2)\n"
     ]
    },
    {
     "data": {
      "text/html": [
       "<div>\n",
       "<style scoped>\n",
       "    .dataframe tbody tr th:only-of-type {\n",
       "        vertical-align: middle;\n",
       "    }\n",
       "\n",
       "    .dataframe tbody tr th {\n",
       "        vertical-align: top;\n",
       "    }\n",
       "\n",
       "    .dataframe thead th {\n",
       "        text-align: right;\n",
       "    }\n",
       "</style>\n",
       "<table border=\"1\" class=\"dataframe\">\n",
       "  <thead>\n",
       "    <tr style=\"text-align: right;\">\n",
       "      <th></th>\n",
       "      <th>post</th>\n",
       "      <th>tags</th>\n",
       "    </tr>\n",
       "  </thead>\n",
       "  <tbody>\n",
       "    <tr>\n",
       "      <td>0</td>\n",
       "      <td>what is causing this behavior  in our c# datet...</td>\n",
       "      <td>c#</td>\n",
       "    </tr>\n",
       "    <tr>\n",
       "      <td>1</td>\n",
       "      <td>have dynamic html load as if it was in an ifra...</td>\n",
       "      <td>asp.net</td>\n",
       "    </tr>\n",
       "    <tr>\n",
       "      <td>2</td>\n",
       "      <td>how to convert a float value in to min:sec  i ...</td>\n",
       "      <td>objective-c</td>\n",
       "    </tr>\n",
       "    <tr>\n",
       "      <td>3</td>\n",
       "      <td>.net framework 4 redistributable  just wonderi...</td>\n",
       "      <td>.net</td>\n",
       "    </tr>\n",
       "    <tr>\n",
       "      <td>4</td>\n",
       "      <td>trying to calculate and print the mean and its...</td>\n",
       "      <td>python</td>\n",
       "    </tr>\n",
       "  </tbody>\n",
       "</table>\n",
       "</div>"
      ],
      "text/plain": [
       "                                                post         tags\n",
       "0  what is causing this behavior  in our c# datet...           c#\n",
       "1  have dynamic html load as if it was in an ifra...      asp.net\n",
       "2  how to convert a float value in to min:sec  i ...  objective-c\n",
       "3  .net framework 4 redistributable  just wonderi...         .net\n",
       "4  trying to calculate and print the mean and its...       python"
      ]
     },
     "execution_count": 1,
     "metadata": {},
     "output_type": "execute_result"
    }
   ],
   "source": [
    "import pandas as pd\n",
    "df = pd.read_csv('./data/stack-overflow-data.csv')\n",
    "\n",
    "# We remove the rows where the 'tags' is not filled in\n",
    "df = df[pd.notnull(df['tags'])]\n",
    "\n",
    "print('Dataframe shape:', df.shape)\n",
    "df.head()"
   ]
  },
  {
   "cell_type": "markdown",
   "metadata": {},
   "source": [
    "Let's see an overview of the disribution of the dataset according to the tags."
   ]
  },
  {
   "cell_type": "code",
   "execution_count": 3,
   "metadata": {},
   "outputs": [
    {
     "data": {
      "image/png": "[encoded data removed]",
      "text/plain": [
       "<Figure size 432x288 with 1 Axes>"
      ]
     },
     "metadata": {
      "needs_background": "light"
     },
     "output_type": "display_data"
    }
   ],
   "source": [
    "import matplotlib.pyplot as plt\n",
    "\n",
    "my_tags = ['java','html','asp.net','c#','ruby-on-rails','jquery','mysql','php','ios','javascript','python','c','css','android','iphone','sql','objective-c','c++','angularjs','.net']\n",
    "\n",
    "plt.figure()\n",
    "df.tags.value_counts().plot(kind='bar')\n",
    "plt.show()"
   ]
  },
  {
   "cell_type": "markdown",
   "metadata": {},
   "source": [
    "The classes are balanced."
   ]
  },
  {
   "cell_type": "markdown",
   "metadata": {},
   "source": [
    "Let's see an overview of the posts that we can find in the dataset."
   ]
  },
  {
   "cell_type": "code",
   "execution_count": 4,
   "metadata": {},
   "outputs": [
    {
     "data": {
      "text/plain": [
       "'what is causing this behavior  in our c# datetime type  <pre><code>[test] public void sadness() {    var datetime = datetime.utcnow;    assert.that(datetime  is.equalto(datetime.parse(datetime.tostring()))); } </code></pre>   failed :   <pre><code> expected: 2011-10-31 06:12:44.000  but was:  2011-10-31 06:12:44.350 </code></pre>   i wish to know what is happening behind the scenes in tostring() etc to cause this behavior.    edit after seeing jon s answer :   <pre><code>[test] public void newsadness() {     var datetime = datetime.utcnow;     assert.that(datetime  is.equalto(datetime.parse(datetime.tostring( o )))); } </code></pre>   result :   <pre><code>expected: 2011-10-31 12:03:04.161 but was:  2011-10-31 06:33:04.161 </code></pre>   same result with capital and small  o  . i m reading up the docs  but still unclear.'"
      ]
     },
     "execution_count": 4,
     "metadata": {},
     "output_type": "execute_result"
    }
   ],
   "source": [
    "df.iloc[0, 0]"
   ]
  },
  {
   "cell_type": "code",
   "execution_count": 5,
   "metadata": {},
   "outputs": [
    {
     "data": {
      "text/plain": [
       "'collect information from two tables in foreaches  i have the image product id in one database table and the image source in another table. these are all put into an order. there can be more than one image in a single order. i am trying to send each picture to pwinty.    so for each image i need to make this:    <pre><code>$photo = $pwinty-&gt;addphoto($order   $size    $source    $qty    shrinktofit ); // i have not got to the size and qty variable yet  // because of that i have this instead $photo = $pwinty-&gt;addphoto($order   4x6    $source    1    shrinktofit ); </code></pre>   right now  because they are in multiple tables i have the following code: (which is not returning the photo array above at all.    <pre><code>// get the customers pictures for this order  foreach ($db-&gt;query( select * from order_products where order_id=$order_id ) as $row) $picture_info[] = $row;  if (count($picture_info) &gt; 0):     foreach ($picture_info as $row):          $product_id = $row[ product_id ];          echo $product_id;          foreach ($db-&gt;query( select * from products where product_id=$product_id ) as $row)         $picture_source[] = $row;              foreach ($picture_source as $row):                  $source = $row[ product_image ];                  echo $source;                  // add some photos                 $photo = $pwinty-&gt;addphoto($order   4x6    $source    1    shrinktofit );               endforeach;       endforeach;  endif; </code></pre>   what it is returning is:    <pre><code>14138646283376c471632817da60f95964cb2d57dc46.png array ( [id] =&gt; 7776 [address1] =&gt; 2002 e blain [address2] =&gt;  [postalorzipcode] =&gt; 68460 [country] =&gt; united states [addresstownorcity] =&gt; belvidear [recipientname] =&gt; joe dohn [textonreverse] =&gt; photos by alphahq [stateorcounty] =&gt; kansas [status] =&gt; notyetsubmitted [payment] =&gt;  [paymenturl] =&gt;  [photos] =&gt; array     (     )  [documents] =&gt; array     (     )  [stickers] =&gt; array     (     )      ) </code></pre>   see how the image array is empty  what do i need to fix'"
      ]
     },
     "execution_count": 5,
     "metadata": {},
     "output_type": "execute_result"
    }
   ],
   "source": [
    "df.iloc[1000,0]"
   ]
  },
  {
   "cell_type": "markdown",
   "metadata": {},
   "source": [
    "The post's content are not really readable. We need to clean them up."
   ]
  },
  {
   "cell_type": "markdown",
   "metadata": {},
   "source": [
    "## Text Pre-processing"
   ]
  },
  {
   "cell_type": "markdown",
   "metadata": {},
   "source": [
    "There are many Text Pre-processing methods, in our case we are going to:\n",
    "- decode HTML\n",
    "- change text to lower case\n",
    "- remove punctuation\n",
    "- remove bad characters\n",
    "- remove \"stop words\" (most common words in a language &#8594; no information provided)"
   ]
  },
  {
   "cell_type": "code",
   "execution_count": 6,
   "metadata": {},
   "outputs": [],
   "source": [
    "import nltk\n",
    "from nltk.corpus import stopwords\n",
    "import re\n",
    "from bs4 import BeautifulSoup\n",
    "\n",
    "# nltk.download('stopwords')\n",
    "\n",
    "REPLACE_BY_SPACE_RE = re.compile('[/(){}\\[\\]\\|@,;]')\n",
    "BAD_SYMBOLS_RE = re.compile('[^0-9a-z #+_]')\n",
    "STOPWORDS = set(stopwords.words('english'))\n",
    "\n",
    "def clean_text(text):\n",
    "    \"\"\"\n",
    "        text: a string\n",
    "        return: initial string pre-processed\n",
    "    \"\"\"\n",
    "    text = BeautifulSoup(text).decode()\n",
    "    text = text.lower()\n",
    "    text = REPLACE_BY_SPACE_RE.sub(' ', text)\n",
    "    text = BAD_SYMBOLS_RE.sub('', text)\n",
    "    text = ' '.join(word for word in text.split() if word not in STOPWORDS)\n",
    "    return text\n",
    "\n",
    "df['post'] = df['post'].apply(clean_text)"
   ]
  },
  {
   "cell_type": "markdown",
   "metadata": {},
   "source": [
    "Let's see the precedent posts after the pre-processing."
   ]
  },
  {
   "cell_type": "code",
   "execution_count": 7,
   "metadata": {},
   "outputs": [
    {
     "data": {
      "text/plain": [
       "'causing behavior c# datetime type precode test public void sadness var datetime datetimeutcnow assertthat datetime isequalto datetimeparse datetimetostring code pre failed precode expected 20111031 061244000 20111031 061244350 code pre wish know happening behind scenes tostring etc cause behavior edit seeing jon answer precode test public void newsadness var datetime datetimeutcnow assertthat datetime isequalto datetimeparse datetimetostring code pre result precodeexpected 20111031 120304161 20111031 063304161 code pre result capital small reading docs still unclear'"
      ]
     },
     "execution_count": 7,
     "metadata": {},
     "output_type": "execute_result"
    }
   ],
   "source": [
    "df.iloc[0, 0]"
   ]
  },
  {
   "cell_type": "code",
   "execution_count": 8,
   "metadata": {},
   "outputs": [
    {
     "data": {
      "text/plain": [
       "'collect information two tables foreaches image product id one database table image source another table put order one image single order trying send picture pwinty image need make precodephoto pwintygt addphoto order size source qty shrinktofit got size qty variable yet instead photo pwintygt addphoto order 4x6 source 1 shrinktofit code pre right multiple tables following code returning photo array precode get customers pictures order foreach dbgt query select order_products order_idorder_id row picture_info row count picture_info gt 0 foreach picture_info row product_id row product_id echo product_id foreach dbgt query select products product_idproduct_id row picture_source row foreach picture_source row source row product_image echo source add photos photo pwintygt addphoto order 4x6 source 1 shrinktofit endforeach endforeach endif code pre returning precode14138646283376c471632817da60f95964cb2d57dc46png array id gt 7776 address1 gt 2002 e blain address2 gt postalorzipcode gt 68460 country gt united states addresstownorcity gt belvidear recipientname gt joe dohn textonreverse gt photos alphahq stateorcounty gt kansas status gt notyetsubmitted payment gt paymenturl gt photos gt array documents gt array stickers gt array code pre see image array empty need fix'"
      ]
     },
     "execution_count": 8,
     "metadata": {},
     "output_type": "execute_result"
    }
   ],
   "source": [
    "df.iloc[1000,0]"
   ]
  },
  {
   "cell_type": "markdown",
   "metadata": {},
   "source": [
    "Much more readable!"
   ]
  },
  {
   "cell_type": "markdown",
   "metadata": {},
   "source": [
    "## Multi-Class Classifier"
   ]
  },
  {
   "cell_type": "code",
   "execution_count": 9,
   "metadata": {},
   "outputs": [],
   "source": [
    "from sklearn.model_selection import train_test_split\n",
    "from sklearn.feature_extraction.text import CountVectorizer, TfidfVectorizer\n",
    "from sklearn.metrics import accuracy_score, confusion_matrix\n",
    "\n",
    "X = df.post\n",
    "y = df.tags\n",
    "X_train, X_test, y_train, y_test = train_test_split(X, y, test_size=0.2, random_state=0)"
   ]
  },
  {
   "cell_type": "markdown",
   "metadata": {},
   "source": [
    "### Naive Bayes Classifier for Multinomial Models"
   ]
  },
  {
   "cell_type": "code",
   "execution_count": 10,
   "metadata": {},
   "outputs": [
    {
     "name": "stdout",
     "output_type": "stream",
     "text": [
      "Wall time: 3.86 s\n",
      "accuracy 0.753875 \n",
      "\n",
      "               precision    recall  f1-score   support\n",
      "\n",
      "         java       0.60      0.67      0.63       377\n",
      "         html       0.93      0.84      0.88       437\n",
      "      asp.net       0.94      0.92      0.93       433\n",
      "           c#       0.71      0.74      0.72       387\n",
      "ruby-on-rails       0.77      0.87      0.82       421\n",
      "       jquery       0.73      0.54      0.62       387\n",
      "        mysql       0.82      0.75      0.78       411\n",
      "          php       0.71      0.89      0.79       401\n",
      "          ios       0.57      0.65      0.61       378\n",
      "   javascript       0.61      0.68      0.65       397\n",
      "       python       0.72      0.57      0.64       412\n",
      "            c       0.74      0.80      0.77       377\n",
      "          css       0.78      0.58      0.67       391\n",
      "      android       0.72      0.80      0.76       402\n",
      "       iphone       0.69      0.83      0.75       414\n",
      "          sql       0.71      0.67      0.69       400\n",
      "  objective-c       0.83      0.76      0.79       398\n",
      "          c++       0.85      0.90      0.88       406\n",
      "    angularjs       0.89      0.91      0.90       363\n",
      "         .net       0.80      0.70      0.74       408\n",
      "\n",
      "     accuracy                           0.75      8000\n",
      "    macro avg       0.76      0.75      0.75      8000\n",
      " weighted avg       0.76      0.75      0.75      8000\n",
      "\n"
     ]
    }
   ],
   "source": [
    "from sklearn.naive_bayes import MultinomialNB\n",
    "from sklearn.pipeline import Pipeline\n",
    "from sklearn.feature_extraction.text import TfidfTransformer\n",
    "from sklearn.metrics import classification_report\n",
    "\n",
    "nb = Pipeline([('vect', CountVectorizer()),\n",
    "               ('tfidf', TfidfTransformer()),\n",
    "               ('clf', MultinomialNB()),\n",
    "              ])\n",
    "%time nb.fit(X_train, y_train)\n",
    "\n",
    "y_pred = nb.predict(X_test)\n",
    "\n",
    "print('accuracy', accuracy_score(y_pred, y_test), '\\n')\n",
    "print(classification_report(y_test, y_pred,target_names=my_tags))"
   ]
  },
  {
   "cell_type": "markdown",
   "metadata": {},
   "source": [
    "### Linear Support Vector Machine"
   ]
  },
  {
   "cell_type": "code",
   "execution_count": 11,
   "metadata": {},
   "outputs": [
    {
     "name": "stdout",
     "output_type": "stream",
     "text": [
      "Wall time: 7.45 s\n",
      "accuracy 0.811875 \n",
      "\n",
      "               precision    recall  f1-score   support\n",
      "\n",
      "         java       0.73      0.69      0.71       377\n",
      "         html       0.94      0.92      0.93       437\n",
      "      asp.net       0.98      0.95      0.97       433\n",
      "           c#       0.80      0.75      0.78       387\n",
      "ruby-on-rails       0.82      0.87      0.85       421\n",
      "       jquery       0.68      0.65      0.66       387\n",
      "        mysql       0.81      0.76      0.78       411\n",
      "          php       0.80      0.88      0.84       401\n",
      "          ios       0.70      0.71      0.70       378\n",
      "   javascript       0.71      0.66      0.68       397\n",
      "       python       0.69      0.73      0.71       412\n",
      "            c       0.84      0.84      0.84       377\n",
      "          css       0.79      0.79      0.79       391\n",
      "      android       0.86      0.86      0.86       402\n",
      "       iphone       0.86      0.80      0.83       414\n",
      "          sql       0.72      0.67      0.69       400\n",
      "  objective-c       0.84      0.87      0.85       398\n",
      "          c++       0.91      0.95      0.93       406\n",
      "    angularjs       0.97      0.96      0.96       363\n",
      "         .net       0.78      0.89      0.83       408\n",
      "\n",
      "     accuracy                           0.81      8000\n",
      "    macro avg       0.81      0.81      0.81      8000\n",
      " weighted avg       0.81      0.81      0.81      8000\n",
      "\n"
     ]
    }
   ],
   "source": [
    "from sklearn.svm import LinearSVC\n",
    "\n",
    "lsvc = Pipeline([('vect', CountVectorizer()),\n",
    "                ('tfidf', TfidfTransformer()),\n",
    "                ('clf', LinearSVC()),\n",
    "               ])\n",
    "%time lsvc.fit(X_train, y_train)\n",
    "\n",
    "y_pred = lsvc.predict(X_test)\n",
    "\n",
    "print('accuracy', accuracy_score(y_pred, y_test), '\\n')\n",
    "print(classification_report(y_test, y_pred,target_names=my_tags))"
   ]
  },
  {
   "cell_type": "markdown",
   "metadata": {},
   "source": [
    "### Logistic Regression"
   ]
  },
  {
   "cell_type": "code",
   "execution_count": 12,
   "metadata": {},
   "outputs": [
    {
     "name": "stdout",
     "output_type": "stream",
     "text": [
      "Wall time: 2min 28s\n",
      "accuracy 0.8065 \n",
      "\n",
      "               precision    recall  f1-score   support\n",
      "\n",
      "         java       0.69      0.69      0.69       377\n",
      "         html       0.94      0.87      0.90       437\n",
      "      asp.net       0.99      0.92      0.95       433\n",
      "           c#       0.80      0.72      0.76       387\n",
      "ruby-on-rails       0.83      0.87      0.85       421\n",
      "       jquery       0.59      0.66      0.63       387\n",
      "        mysql       0.81      0.76      0.78       411\n",
      "          php       0.81      0.88      0.85       401\n",
      "          ios       0.68      0.75      0.71       378\n",
      "   javascript       0.70      0.69      0.70       397\n",
      "       python       0.73      0.73      0.73       412\n",
      "            c       0.83      0.81      0.82       377\n",
      "          css       0.78      0.78      0.78       391\n",
      "      android       0.87      0.84      0.85       402\n",
      "       iphone       0.86      0.81      0.84       414\n",
      "          sql       0.74      0.70      0.72       400\n",
      "  objective-c       0.87      0.83      0.85       398\n",
      "          c++       0.88      0.94      0.91       406\n",
      "    angularjs       0.97      0.93      0.95       363\n",
      "         .net       0.78      0.91      0.84       408\n",
      "\n",
      "     accuracy                           0.81      8000\n",
      "    macro avg       0.81      0.81      0.81      8000\n",
      " weighted avg       0.81      0.81      0.81      8000\n",
      "\n"
     ]
    }
   ],
   "source": [
    "from sklearn.linear_model import LogisticRegression\n",
    "\n",
    "logreg = Pipeline([('vect', CountVectorizer()),\n",
    "                ('tfidf', TfidfTransformer()),\n",
    "                ('clf', LogisticRegression(solver='newton-cg', multi_class='multinomial')),\n",
    "               ])\n",
    "%time logreg.fit(X_train, y_train)\n",
    "\n",
    "y_pred = logreg.predict(X_test)\n",
    "\n",
    "print('accuracy', accuracy_score(y_pred, y_test), '\\n')\n",
    "print(classification_report(y_test, y_pred,target_names=my_tags))"
   ]
  },
  {
   "cell_type": "markdown",
   "metadata": {},
   "source": [
    "### Neural Network "
   ]
  },
  {
   "cell_type": "code",
   "execution_count": 13,
   "metadata": {},
   "outputs": [
    {
     "data": {
      "text/plain": [
       "'2.0.0'"
      ]
     },
     "execution_count": 13,
     "metadata": {},
     "output_type": "execute_result"
    }
   ],
   "source": [
    "from IPython.display import clear_output\n",
    "\n",
    "import numpy as np\n",
    "\n",
    "import tensorflow as tf\n",
    "from tensorflow.keras.preprocessing import text\n",
    "from tensorflow.keras import utils\n",
    "\n",
    "from sklearn.preprocessing import LabelEncoder\n",
    "\n",
    "tf.__version__"
   ]
  },
  {
   "cell_type": "markdown",
   "metadata": {},
   "source": [
    "Prepare the data for training"
   ]
  },
  {
   "cell_type": "code",
   "execution_count": 14,
   "metadata": {},
   "outputs": [
    {
     "name": "stdout",
     "output_type": "stream",
     "text": [
      "Train size: 32000\n",
      "Test size: 8000\n"
     ]
    }
   ],
   "source": [
    "train_size = int(len(df) * .8)\n",
    "train_posts = df['post'][:train_size]\n",
    "train_tags = df['tags'][:train_size]\n",
    "\n",
    "test_posts = df['post'][train_size:]\n",
    "test_tags = df['tags'][train_size:]\n",
    "\n",
    "print('Train size:', train_size)\n",
    "print('Test size:', len(df)-train_size)"
   ]
  },
  {
   "cell_type": "code",
   "execution_count": 15,
   "metadata": {},
   "outputs": [],
   "source": [
    "max_words = 1000\n",
    "tokenize = text.Tokenizer(num_words=max_words, char_level=False)\n",
    "tokenize.fit_on_texts(train_posts)\n",
    "\n",
    "x_train = tokenize.texts_to_matrix(train_posts)\n",
    "x_test = tokenize.texts_to_matrix(test_posts)"
   ]
  },
  {
   "cell_type": "code",
   "execution_count": 16,
   "metadata": {},
   "outputs": [],
   "source": [
    "encoder = LabelEncoder()\n",
    "encoder.fit(train_tags)\n",
    "y_train = encoder.transform(train_tags)\n",
    "y_test = encoder.transform(test_tags)"
   ]
  },
  {
   "cell_type": "code",
   "execution_count": 17,
   "metadata": {},
   "outputs": [
    {
     "name": "stdout",
     "output_type": "stream",
     "text": [
      "x_train shape: (32000, 1000)\n",
      "x_test shape: (8000, 1000)\n",
      "y_train shape: (32000, 20)\n",
      "y_test shape: (8000, 20)\n"
     ]
    }
   ],
   "source": [
    "num_classes = np.max(y_train) + 1\n",
    "\n",
    "y_train = utils.to_categorical(y_train, num_classes)\n",
    "y_test = utils.to_categorical(y_test, num_classes)\n",
    "\n",
    "print('x_train shape:', x_train.shape)\n",
    "print('x_test shape:', x_test.shape)\n",
    "print('y_train shape:', y_train.shape)\n",
    "print('y_test shape:', y_test.shape)"
   ]
  },
  {
   "cell_type": "code",
   "execution_count": 18,
   "metadata": {},
   "outputs": [],
   "source": [
    "batch_size = 32\n",
    "epochs = 3"
   ]
  },
  {
   "cell_type": "markdown",
   "metadata": {},
   "source": [
    "Build the model"
   ]
  },
  {
   "cell_type": "code",
   "execution_count": 19,
   "metadata": {},
   "outputs": [
    {
     "name": "stdout",
     "output_type": "stream",
     "text": [
      "Train on 28800 samples, validate on 3200 samples\n",
      "Epoch 1/3\n",
      "28800/28800 [==============================] - 5s 177us/sample - loss: 2.2548 - accuracy: 0.4561 - val_loss: 1.4543 - val_accuracy: 0.7353\n",
      "Epoch 2/3\n",
      "28800/28800 [==============================] - 4s 145us/sample - loss: 1.1825 - accuracy: 0.7319 - val_loss: 0.9134 - val_accuracy: 0.7831\n",
      "Epoch 3/3\n",
      "28800/28800 [==============================] - 4s 147us/sample - loss: 0.8634 - accuracy: 0.7707 - val_loss: 0.7583 - val_accuracy: 0.7947\n",
      "Wall time: 13.7 s\n"
     ]
    }
   ],
   "source": [
    "%%time\n",
    "\n",
    "model = tf.keras.Sequential([\n",
    "    tf.keras.layers.Dense(512, input_shape=(max_words,)),\n",
    "    tf.keras.layers.Activation('relu'),\n",
    "    tf.keras.layers.Dropout(0.5),\n",
    "    tf.keras.layers.Dense(num_classes),\n",
    "    tf.keras.layers.Activation('softmax')\n",
    "])\n",
    "\n",
    "model.compile(loss='categorical_crossentropy',\n",
    "              optimizer=tf.keras.optimizers.Adam(1e-4),\n",
    "              metrics=['accuracy'])\n",
    "\n",
    "history = model.fit(x_train,\n",
    "                    y_train,\n",
    "                    batch_size=batch_size,\n",
    "                    epochs=epochs,\n",
    "                    verbose=1,\n",
    "                    validation_split=0.1\n",
    "                   )"
   ]
  },
  {
   "cell_type": "code",
   "execution_count": 20,
   "metadata": {},
   "outputs": [
    {
     "name": "stdout",
     "output_type": "stream",
     "text": [
      "Test accuracy: 0.800875\n"
     ]
    }
   ],
   "source": [
    "score = model.evaluate(x_test, \n",
    "                       y_test,\n",
    "                       batch_size=batch_size,\n",
    "                       verbose=1\n",
    "                      )\n",
    "\n",
    "clear_output(wait=True)\n",
    "print('Test accuracy:', score[1])"
   ]
  },
  {
   "cell_type": "code",
   "execution_count": 21,
   "metadata": {},
   "outputs": [],
   "source": [
    "def plot_graphs(history, string):\n",
    "    plt.plot(history.history[string])\n",
    "    plt.plot(history.history['val_'+string], '')\n",
    "    plt.xlabel(\"Epochs\")\n",
    "    plt.ylabel(string)\n",
    "    plt.legend([string, 'val_'+string])\n",
    "    plt.show()"
   ]
  },
  {
   "cell_type": "code",
   "execution_count": 22,
   "metadata": {},
   "outputs": [
    {
     "data": {
      "image/png": "[encoded data removed]",
      "text/plain": [
       "<Figure size 432x288 with 1 Axes>"
      ]
     },
     "metadata": {
      "needs_background": "light"
     },
     "output_type": "display_data"
    }
   ],
   "source": [
    "plot_graphs(history, 'accuracy')"
   ]
  },
  {
   "cell_type": "code",
   "execution_count": 23,
   "metadata": {},
   "outputs": [
    {
     "data": {
      "image/png": "[encoded data removed]",
      "text/plain": [
       "<Figure size 432x288 with 1 Axes>"
      ]
     },
     "metadata": {
      "needs_background": "light"
     },
     "output_type": "display_data"
    }
   ],
   "source": [
    "plot_graphs(history, 'loss')"
   ]
  },
  {
   "cell_type": "markdown",
   "metadata": {},
   "source": [
    "## Conclusion"
   ]
  },
  {
   "cell_type": "markdown",
   "metadata": {},
   "source": [
    "A summary of previous results obtained:\n",
    "\n",
    "|            Methods            | Accuracy |   Time   |\n",
    "|:-----------------------------:|:--------:|:--------:|\n",
    "| Naive Bayes                   | 0.753875 | 3.86 s   |\n",
    "| Linear Support Vector Machine | 0.811875 | 7.45 s   |\n",
    "| Logistic Regression           | 0.8065   | 2min 28s |\n",
    "| Neural Network                | 0.800875 | 13.7 s   |\n",
    "\n",
    "The method with the highest accuracy was **Linear Support Vector Machine**. In addition, this method is the second fastest method for the training phase. In my opinion, this is the optimal method to use in our classification problem."
   ]
  }
 ],
 "metadata": {
  "kernelspec": {
   "display_name": "Python 3",
   "language": "python",
   "name": "python3"
  },
  "language_info": {
   "codemirror_mode": {
    "name": "ipython",
    "version": 3
   },
   "file_extension": ".py",
   "mimetype": "text/x-python",
   "name": "python",
   "nbconvert_exporter": "python",
   "pygments_lexer": "ipython3",
   "version": "3.6.7"
  }
 },
 "nbformat": 4,
 "nbformat_minor": 2
}
