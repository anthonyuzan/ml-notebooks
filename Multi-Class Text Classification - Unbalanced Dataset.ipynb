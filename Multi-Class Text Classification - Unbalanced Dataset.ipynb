{
 "cells": [
  {
   "cell_type": "markdown",
   "metadata": {},
   "source": [
    "# Multi-Class Text Classification - Unbalanced Dataset"
   ]
  },
  {
   "cell_type": "markdown",
   "metadata": {},
   "source": [
    "Inspired by Susan Li's article: https://towardsdatascience.com/multi-class-text-classification-with-scikit-learn-12f1e60e0a9f"
   ]
  },
  {
   "cell_type": "markdown",
   "metadata": {},
   "source": [
    "The goal is to classifying consumer finance complaints into 9 pre-defined classes. \n",
    "<br>The classifier makes the assumption that each new complaint is assigned to one and only one category."
   ]
  },
  {
   "cell_type": "code",
   "execution_count": 1,
   "metadata": {
    "scrolled": true
   },
   "outputs": [
    {
     "name": "stderr",
     "output_type": "stream",
     "text": [
      "C:\\Programming\\Anaconda3\\envs\\sklearn\\lib\\site-packages\\IPython\\core\\interactiveshell.py:3058: DtypeWarning: Columns (5,6,11,16) have mixed types. Specify dtype option on import or set low_memory=False.\n",
      "  interactivity=interactivity, compiler=compiler, result=result)\n"
     ]
    },
    {
     "data": {
      "text/html": [
       "<div>\n",
       "<style scoped>\n",
       "    .dataframe tbody tr th:only-of-type {\n",
       "        vertical-align: middle;\n",
       "    }\n",
       "\n",
       "    .dataframe tbody tr th {\n",
       "        vertical-align: top;\n",
       "    }\n",
       "\n",
       "    .dataframe thead th {\n",
       "        text-align: right;\n",
       "    }\n",
       "</style>\n",
       "<table border=\"1\" class=\"dataframe\">\n",
       "  <thead>\n",
       "    <tr style=\"text-align: right;\">\n",
       "      <th></th>\n",
       "      <th>Date received</th>\n",
       "      <th>Product</th>\n",
       "      <th>Sub-product</th>\n",
       "      <th>Issue</th>\n",
       "      <th>Sub-issue</th>\n",
       "      <th>Consumer complaint narrative</th>\n",
       "      <th>Company public response</th>\n",
       "      <th>Company</th>\n",
       "      <th>State</th>\n",
       "      <th>ZIP code</th>\n",
       "      <th>Tags</th>\n",
       "      <th>Consumer consent provided?</th>\n",
       "      <th>Submitted via</th>\n",
       "      <th>Date sent to company</th>\n",
       "      <th>Company response to consumer</th>\n",
       "      <th>Timely response?</th>\n",
       "      <th>Consumer disputed?</th>\n",
       "      <th>Complaint ID</th>\n",
       "    </tr>\n",
       "  </thead>\n",
       "  <tbody>\n",
       "    <tr>\n",
       "      <td>0</td>\n",
       "      <td>09/28/2019</td>\n",
       "      <td>Debt collection</td>\n",
       "      <td>Medical debt</td>\n",
       "      <td>Attempts to collect debt not owed</td>\n",
       "      <td>Debt is not yours</td>\n",
       "      <td>NaN</td>\n",
       "      <td>Company believes it acted appropriately as aut...</td>\n",
       "      <td>First Federal Credit Control</td>\n",
       "      <td>MD</td>\n",
       "      <td>21117</td>\n",
       "      <td>NaN</td>\n",
       "      <td>Other</td>\n",
       "      <td>Web</td>\n",
       "      <td>09/28/2019</td>\n",
       "      <td>Closed with explanation</td>\n",
       "      <td>Yes</td>\n",
       "      <td>NaN</td>\n",
       "      <td>3389408</td>\n",
       "    </tr>\n",
       "    <tr>\n",
       "      <td>1</td>\n",
       "      <td>09/27/2019</td>\n",
       "      <td>Credit reporting, credit repair services, or o...</td>\n",
       "      <td>Credit reporting</td>\n",
       "      <td>Problem with a credit reporting company's inve...</td>\n",
       "      <td>Was not notified of investigation status or re...</td>\n",
       "      <td>NaN</td>\n",
       "      <td>NaN</td>\n",
       "      <td>ALLY FINANCIAL INC.</td>\n",
       "      <td>NY</td>\n",
       "      <td>113XX</td>\n",
       "      <td>Servicemember</td>\n",
       "      <td>NaN</td>\n",
       "      <td>Web</td>\n",
       "      <td>09/27/2019</td>\n",
       "      <td>In progress</td>\n",
       "      <td>Yes</td>\n",
       "      <td>NaN</td>\n",
       "      <td>3388472</td>\n",
       "    </tr>\n",
       "    <tr>\n",
       "      <td>2</td>\n",
       "      <td>09/27/2019</td>\n",
       "      <td>Mortgage</td>\n",
       "      <td>Other type of mortgage</td>\n",
       "      <td>Trouble during payment process</td>\n",
       "      <td>NaN</td>\n",
       "      <td>NaN</td>\n",
       "      <td>NaN</td>\n",
       "      <td>LAND HOME FINANCIAL SERVICES</td>\n",
       "      <td>NV</td>\n",
       "      <td>89436</td>\n",
       "      <td>NaN</td>\n",
       "      <td>NaN</td>\n",
       "      <td>Web</td>\n",
       "      <td>09/27/2019</td>\n",
       "      <td>In progress</td>\n",
       "      <td>Yes</td>\n",
       "      <td>NaN</td>\n",
       "      <td>3388560</td>\n",
       "    </tr>\n",
       "    <tr>\n",
       "      <td>3</td>\n",
       "      <td>09/27/2019</td>\n",
       "      <td>Debt collection</td>\n",
       "      <td>Other debt</td>\n",
       "      <td>Attempts to collect debt not owed</td>\n",
       "      <td>Debt was result of identity theft</td>\n",
       "      <td>NaN</td>\n",
       "      <td>NaN</td>\n",
       "      <td>Eagle Accounts Group, Inc.</td>\n",
       "      <td>KY</td>\n",
       "      <td>401XX</td>\n",
       "      <td>NaN</td>\n",
       "      <td>NaN</td>\n",
       "      <td>Web</td>\n",
       "      <td>09/27/2019</td>\n",
       "      <td>Closed with explanation</td>\n",
       "      <td>Yes</td>\n",
       "      <td>NaN</td>\n",
       "      <td>3388118</td>\n",
       "    </tr>\n",
       "    <tr>\n",
       "      <td>4</td>\n",
       "      <td>09/27/2019</td>\n",
       "      <td>Debt collection</td>\n",
       "      <td>Credit card debt</td>\n",
       "      <td>False statements or representation</td>\n",
       "      <td>Indicated you were committing crime by not pay...</td>\n",
       "      <td>NaN</td>\n",
       "      <td>NaN</td>\n",
       "      <td>NAVY FEDERAL CREDIT UNION</td>\n",
       "      <td>MD</td>\n",
       "      <td>21043</td>\n",
       "      <td>Servicemember</td>\n",
       "      <td>NaN</td>\n",
       "      <td>Web</td>\n",
       "      <td>09/27/2019</td>\n",
       "      <td>In progress</td>\n",
       "      <td>Yes</td>\n",
       "      <td>NaN</td>\n",
       "      <td>3387872</td>\n",
       "    </tr>\n",
       "  </tbody>\n",
       "</table>\n",
       "</div>"
      ],
      "text/plain": [
       "  Date received                                            Product  \\\n",
       "0    09/28/2019                                    Debt collection   \n",
       "1    09/27/2019  Credit reporting, credit repair services, or o...   \n",
       "2    09/27/2019                                           Mortgage   \n",
       "3    09/27/2019                                    Debt collection   \n",
       "4    09/27/2019                                    Debt collection   \n",
       "\n",
       "              Sub-product                                              Issue  \\\n",
       "0            Medical debt                  Attempts to collect debt not owed   \n",
       "1        Credit reporting  Problem with a credit reporting company's inve...   \n",
       "2  Other type of mortgage                     Trouble during payment process   \n",
       "3              Other debt                  Attempts to collect debt not owed   \n",
       "4        Credit card debt                 False statements or representation   \n",
       "\n",
       "                                           Sub-issue  \\\n",
       "0                                  Debt is not yours   \n",
       "1  Was not notified of investigation status or re...   \n",
       "2                                                NaN   \n",
       "3                  Debt was result of identity theft   \n",
       "4  Indicated you were committing crime by not pay...   \n",
       "\n",
       "  Consumer complaint narrative  \\\n",
       "0                          NaN   \n",
       "1                          NaN   \n",
       "2                          NaN   \n",
       "3                          NaN   \n",
       "4                          NaN   \n",
       "\n",
       "                             Company public response  \\\n",
       "0  Company believes it acted appropriately as aut...   \n",
       "1                                                NaN   \n",
       "2                                                NaN   \n",
       "3                                                NaN   \n",
       "4                                                NaN   \n",
       "\n",
       "                        Company State ZIP code           Tags  \\\n",
       "0  First Federal Credit Control    MD    21117            NaN   \n",
       "1           ALLY FINANCIAL INC.    NY    113XX  Servicemember   \n",
       "2  LAND HOME FINANCIAL SERVICES    NV    89436            NaN   \n",
       "3    Eagle Accounts Group, Inc.    KY    401XX            NaN   \n",
       "4     NAVY FEDERAL CREDIT UNION    MD    21043  Servicemember   \n",
       "\n",
       "  Consumer consent provided? Submitted via Date sent to company  \\\n",
       "0                      Other           Web           09/28/2019   \n",
       "1                        NaN           Web           09/27/2019   \n",
       "2                        NaN           Web           09/27/2019   \n",
       "3                        NaN           Web           09/27/2019   \n",
       "4                        NaN           Web           09/27/2019   \n",
       "\n",
       "  Company response to consumer Timely response? Consumer disputed?  \\\n",
       "0      Closed with explanation              Yes                NaN   \n",
       "1                  In progress              Yes                NaN   \n",
       "2                  In progress              Yes                NaN   \n",
       "3      Closed with explanation              Yes                NaN   \n",
       "4                  In progress              Yes                NaN   \n",
       "\n",
       "   Complaint ID  \n",
       "0       3389408  \n",
       "1       3388472  \n",
       "2       3388560  \n",
       "3       3388118  \n",
       "4       3387872  "
      ]
     },
     "execution_count": 1,
     "metadata": {},
     "output_type": "execute_result"
    }
   ],
   "source": [
    "import pandas as pd\n",
    "df = pd.read_csv('./data/Consumer_Complaints.csv')\n",
    "df.head()"
   ]
  },
  {
   "cell_type": "markdown",
   "metadata": {},
   "source": [
    "In this project, we will not use all columns but only \"**Product**\" and \"**Consumer complaint narrative**\".\n",
    "\n",
    "**Input**: Consumer complaint narrative.\n",
    "<br>**Output**: Product (what we want to predict)."
   ]
  },
  {
   "cell_type": "markdown",
   "metadata": {},
   "source": [
    "## Data preprocessing"
   ]
  },
  {
   "cell_type": "markdown",
   "metadata": {},
   "source": [
    "We need to clean the data (missing values) and add a column encoding the Product as an integer because categorical variables are often better represented by integers than strings.\n",
    "<br><br>For practical reasons, we only take the first 15000 rows of the dataset."
   ]
  },
  {
   "cell_type": "code",
   "execution_count": 2,
   "metadata": {},
   "outputs": [
    {
     "data": {
      "text/html": [
       "<div>\n",
       "<style scoped>\n",
       "    .dataframe tbody tr th:only-of-type {\n",
       "        vertical-align: middle;\n",
       "    }\n",
       "\n",
       "    .dataframe tbody tr th {\n",
       "        vertical-align: top;\n",
       "    }\n",
       "\n",
       "    .dataframe thead th {\n",
       "        text-align: right;\n",
       "    }\n",
       "</style>\n",
       "<table border=\"1\" class=\"dataframe\">\n",
       "  <thead>\n",
       "    <tr style=\"text-align: right;\">\n",
       "      <th></th>\n",
       "      <th>Product</th>\n",
       "      <th>Consumer_complaint_narrative</th>\n",
       "      <th>category_id</th>\n",
       "    </tr>\n",
       "  </thead>\n",
       "  <tbody>\n",
       "    <tr>\n",
       "      <td>267</td>\n",
       "      <td>Debt collection</td>\n",
       "      <td>Regarding case no- XXXX I don't know what was ...</td>\n",
       "      <td>0</td>\n",
       "    </tr>\n",
       "    <tr>\n",
       "      <td>285</td>\n",
       "      <td>Debt collection</td>\n",
       "      <td>I received a letter stating i owned this compa...</td>\n",
       "      <td>0</td>\n",
       "    </tr>\n",
       "    <tr>\n",
       "      <td>289</td>\n",
       "      <td>Debt collection</td>\n",
       "      <td>This amount is XXXX dollars is not mine and Im...</td>\n",
       "      <td>0</td>\n",
       "    </tr>\n",
       "    <tr>\n",
       "      <td>297</td>\n",
       "      <td>Debt collection</td>\n",
       "      <td>XX/XX/2019 Called my employer XX/XX/2019 Calle...</td>\n",
       "      <td>0</td>\n",
       "    </tr>\n",
       "    <tr>\n",
       "      <td>328</td>\n",
       "      <td>Debt collection</td>\n",
       "      <td>XXXX XXXX XXXX XXXX XXXX XXXX XXXX, GA XXXX CR...</td>\n",
       "      <td>0</td>\n",
       "    </tr>\n",
       "  </tbody>\n",
       "</table>\n",
       "</div>"
      ],
      "text/plain": [
       "             Product                       Consumer_complaint_narrative  \\\n",
       "267  Debt collection  Regarding case no- XXXX I don't know what was ...   \n",
       "285  Debt collection  I received a letter stating i owned this compa...   \n",
       "289  Debt collection  This amount is XXXX dollars is not mine and Im...   \n",
       "297  Debt collection  XX/XX/2019 Called my employer XX/XX/2019 Calle...   \n",
       "328  Debt collection  XXXX XXXX XXXX XXXX XXXX XXXX XXXX, GA XXXX CR...   \n",
       "\n",
       "     category_id  \n",
       "267            0  \n",
       "285            0  \n",
       "289            0  \n",
       "297            0  \n",
       "328            0  "
      ]
     },
     "execution_count": 2,
     "metadata": {},
     "output_type": "execute_result"
    }
   ],
   "source": [
    "from io import StringIO\n",
    "\n",
    "df = df[['Product', 'Consumer complaint narrative']]\n",
    "df.columns = ['Product', 'Consumer_complaint_narrative']\n",
    "\n",
    "df = df[pd.notnull(df['Consumer_complaint_narrative'])]\n",
    "\n",
    "df = df.head(15000)\n",
    "\n",
    "df['category_id'] = df['Product'].factorize()[0]\n",
    "\n",
    "category_id_df = df[['Product', 'category_id']].drop_duplicates().sort_values('category_id')\n",
    "category_to_id = dict(category_id_df.values)\n",
    "id_to_category = dict(category_id_df[['category_id', 'Product']].values)\n",
    "\n",
    "df.head()"
   ]
  },
  {
   "cell_type": "markdown",
   "metadata": {},
   "source": [
    "### Imbalanced data "
   ]
  },
  {
   "cell_type": "code",
   "execution_count": 4,
   "metadata": {},
   "outputs": [
    {
     "data": {
      "image/png": "[encoded data removed]",
      "text/plain": [
       "<Figure size 432x288 with 1 Axes>"
      ]
     },
     "metadata": {
      "needs_background": "light"
     },
     "output_type": "display_data"
    }
   ],
   "source": [
    "import matplotlib.pyplot as plt\n",
    "fig = plt.figure()\n",
    "df.groupby('Product').Consumer_complaint_narrative.count().plot.bar(ylim=0)\n",
    "plt.show()"
   ]
  },
  {
   "cell_type": "markdown",
   "metadata": {
    "collapsed": true
   },
   "source": [
    "We see that the complaint's number per product is imbalanced. We have to know that conventional algorithms are often biased towards the majority class, not taking the data distribution into consideration. In our case, it's not a problem because the majority class might be of our great interest. It is desirable to have a classifier that gives high prediction accuracy over the majority class, while maintaining reasonable accuracy for the minority classes."
   ]
  },
  {
   "cell_type": "markdown",
   "metadata": {},
   "source": [
    "### Text Representation"
   ]
  },
  {
   "cell_type": "markdown",
   "metadata": {},
   "source": [
    "In machine learning, the features have to be numerical attributes to perform some mathematical operation.\n",
    "<br>In our dataset, the feature (**consumer complaint narrative**) is a string value. \n",
    "<br>To convert our string value into vector of numerical value, we use the vectorization\n",
    "<br><br>In our case, we will use one vectorization's method based on the Bag-of-Words model (BoW): **Tf-idf**\n",
    "<br>*Note: BoW is a model where for each document, the presence of words is taken into consideration but the order in which they occur is ignored.*"
   ]
  },
  {
   "cell_type": "code",
   "execution_count": 6,
   "metadata": {},
   "outputs": [
    {
     "data": {
      "text/plain": [
       "(15000, 20191)"
      ]
     },
     "execution_count": 6,
     "metadata": {},
     "output_type": "execute_result"
    }
   ],
   "source": [
    "from sklearn.feature_extraction.text import TfidfVectorizer\n",
    "\n",
    "tfidf = TfidfVectorizer()\n",
    "tfidf.fit(df.Consumer_complaint_narrative)\n",
    "\n",
    "features = tfidf.transform(df.Consumer_complaint_narrative)\n",
    "labels = df.category_id\n",
    "features.shape"
   ]
  },
  {
   "cell_type": "markdown",
   "metadata": {},
   "source": [
    "Each of 15000 **consumer complaint narratives** is represented by 20191 features representing the **tf-idf score** for different unigrams."
   ]
  },
  {
   "cell_type": "markdown",
   "metadata": {},
   "source": [
    "## Multi-Class Classifier"
   ]
  },
  {
   "cell_type": "markdown",
   "metadata": {},
   "source": [
    "We will benchmark the following four models:\n",
    "- Logistic Regression\n",
    "- Multinomial Naive Bayes\n",
    "- Linear Support Vector Machine\n",
    "- Random Forest"
   ]
  },
  {
   "cell_type": "markdown",
   "metadata": {},
   "source": [
    "### Training "
   ]
  },
  {
   "cell_type": "code",
   "execution_count": 7,
   "metadata": {},
   "outputs": [],
   "source": [
    "from sklearn.linear_model import LogisticRegression\n",
    "from sklearn.ensemble import RandomForestClassifier\n",
    "from sklearn.svm import LinearSVC\n",
    "from sklearn.naive_bayes import MultinomialNB\n",
    "from sklearn.model_selection import cross_val_score\n",
    "\n",
    "models = [\n",
    "    RandomForestClassifier(n_estimators=200, max_depth=3, random_state=0),\n",
    "    LinearSVC(),\n",
    "    MultinomialNB(),\n",
    "    LogisticRegression(solver='newton-cg', multi_class='multinomial'),\n",
    "]\n",
    "\n",
    "CV = 5\n",
    "cv_df = pd.DataFrame(index=range(CV * len(models)))\n",
    "entries = []\n",
    "for model in models:\n",
    "    model_name = model.__class__.__name__\n",
    "    accuracies = cross_val_score(model, features, labels, scoring='accuracy', cv=CV)\n",
    "    for fold_idx, accuracy in enumerate(accuracies):\n",
    "        entries.append((model_name, fold_idx, accuracy))\n",
    "\n",
    "cv_df = pd.DataFrame(entries, columns=['model_name', 'fold_idx', 'accuracy'])"
   ]
  },
  {
   "cell_type": "code",
   "execution_count": 8,
   "metadata": {},
   "outputs": [
    {
     "data": {
      "text/plain": [
       "[('RandomForestClassifier', 0, 0.5454545454545454),\n",
       " ('RandomForestClassifier', 1, 0.5456362425049966),\n",
       " ('RandomForestClassifier', 2, 0.5458180606464512),\n",
       " ('RandomForestClassifier', 3, 0.5461820606868957),\n",
       " ('RandomForestClassifier', 4, 0.5465776293823038),\n",
       " ('LinearSVC', 0, 0.8331668331668332),\n",
       " ('LinearSVC', 1, 0.8337774816788808),\n",
       " ('LinearSVC', 2, 0.8387204265244919),\n",
       " ('LinearSVC', 3, 0.8419473157719239),\n",
       " ('LinearSVC', 4, 0.8260434056761269),\n",
       " ('MultinomialNB', 0, 0.5577755577755578),\n",
       " ('MultinomialNB', 1, 0.555962691538974),\n",
       " ('MultinomialNB', 2, 0.5624791736087971),\n",
       " ('MultinomialNB', 3, 0.5625208402800934),\n",
       " ('MultinomialNB', 4, 0.5629382303839733),\n",
       " ('LogisticRegression', 0, 0.8121878121878122),\n",
       " ('LogisticRegression', 1, 0.8211192538307794),\n",
       " ('LogisticRegression', 2, 0.8293902032655781),\n",
       " ('LogisticRegression', 3, 0.8426142047349117),\n",
       " ('LogisticRegression', 4, 0.8250417362270451)]"
      ]
     },
     "execution_count": 8,
     "metadata": {},
     "output_type": "execute_result"
    }
   ],
   "source": [
    "entries"
   ]
  },
  {
   "cell_type": "markdown",
   "metadata": {},
   "source": [
    "We have the accuracy for each sample tested via Cross-Validation method for each model. We will make an average for each model to keep only one value."
   ]
  },
  {
   "cell_type": "code",
   "execution_count": 9,
   "metadata": {},
   "outputs": [
    {
     "data": {
      "text/plain": [
       "{'RandomForestClassifier': 0.5459337077350386,\n",
       " 'LinearSVC': 0.8347310925636513,\n",
       " 'MultinomialNB': 0.5603352987174791,\n",
       " 'LogisticRegression': 0.8260706420492253}"
      ]
     },
     "execution_count": 9,
     "metadata": {},
     "output_type": "execute_result"
    }
   ],
   "source": [
    "scores = {}\n",
    "sum = 0\n",
    "\n",
    "for name, i, acc in entries:\n",
    "    if i == 0:\n",
    "        sum = 0\n",
    "    sum += acc\n",
    "    if i == 4:\n",
    "        scores[name] = sum/CV\n",
    "        \n",
    "scores    "
   ]
  },
  {
   "cell_type": "markdown",
   "metadata": {},
   "source": [
    "### Results comparison"
   ]
  },
  {
   "cell_type": "code",
   "execution_count": 10,
   "metadata": {},
   "outputs": [
    {
     "data": {
      "image/png": "[encoded data removed]",
      "text/plain": [
       "<Figure size 720x360 with 1 Axes>"
      ]
     },
     "metadata": {
      "needs_background": "light"
     },
     "output_type": "display_data"
    }
   ],
   "source": [
    "plt.figure(figsize=(10, 5))\n",
    "plt.bar(scores.keys(), height= scores.values()) \n",
    "plt.show()"
   ]
  },
  {
   "cell_type": "markdown",
   "metadata": {},
   "source": [
    "### Model evaluation"
   ]
  },
  {
   "cell_type": "markdown",
   "metadata": {},
   "source": [
    "We see that the LinearSVC() algorithm got the best results. So we're going to continue with it."
   ]
  },
  {
   "cell_type": "markdown",
   "metadata": {},
   "source": [
    "#### Classification report for each class"
   ]
  },
  {
   "cell_type": "code",
   "execution_count": 12,
   "metadata": {},
   "outputs": [
    {
     "name": "stdout",
     "output_type": "stream",
     "text": [
      "                                                                              precision    recall  f1-score   support\n",
      "\n",
      "                                                             Debt collection       0.77      0.75      0.76       466\n",
      "Credit reporting, credit repair services, or other personal consumer reports       0.89      0.94      0.91      1616\n",
      "                                                                    Mortgage       0.88      0.90      0.89       242\n",
      "                                   Payday loan, title loan, or personal loan       0.87      0.34      0.49        38\n",
      "                                                 Credit card or prepaid card       0.78      0.74      0.76       294\n",
      "                                                       Vehicle loan or lease       0.61      0.54      0.57        56\n",
      "                          Money transfer, virtual currency, or money service       0.65      0.40      0.49        43\n",
      "                                                 Checking or savings account       0.76      0.74      0.75       181\n",
      "                                                                Student loan       0.81      0.59      0.68        64\n",
      "\n",
      "                                                                    accuracy                           0.84      3000\n",
      "                                                                   macro avg       0.78      0.66      0.70      3000\n",
      "                                                                weighted avg       0.84      0.84      0.84      3000\n",
      "\n"
     ]
    }
   ],
   "source": [
    "from sklearn import metrics\n",
    "from sklearn.model_selection import train_test_split\n",
    "\n",
    "model = LinearSVC()\n",
    "X_train, X_test, y_train, y_test, indices_train, indices_test = train_test_split(features, labels, df.index, test_size=0.2, random_state=0)\n",
    "model.fit(X_train, y_train)\n",
    "y_pred = model.predict(X_test)\n",
    "print(metrics.classification_report(y_test, y_pred, target_names=df['Product'].unique()))"
   ]
  },
  {
   "cell_type": "markdown",
   "metadata": {},
   "source": [
    "#### Confusion matrix"
   ]
  },
  {
   "cell_type": "code",
   "execution_count": 13,
   "metadata": {},
   "outputs": [
    {
     "data": {
      "image/png": "[encoded data removed]",
      "text/plain": [
       "<Figure size 720x504 with 2 Axes>"
      ]
     },
     "metadata": {
      "needs_background": "light"
     },
     "output_type": "display_data"
    }
   ],
   "source": [
    "from sklearn.metrics import confusion_matrix\n",
    "import seaborn as sns\n",
    "\n",
    "conf_mat = confusion_matrix(y_test, y_pred)\n",
    "fig, ax = plt.subplots(figsize=(10,7))\n",
    "sns.heatmap(conf_mat, annot=True, fmt='d',xticklabels=category_id_df.Product.values, yticklabels=category_id_df.Product.values)\n",
    "plt.ylabel('Actual')\n",
    "plt.xlabel('Predicted')\n",
    "plt.show()"
   ]
  },
  {
   "cell_type": "markdown",
   "metadata": {},
   "source": [
    "The majority of the predictions end up on the diagonal, which means that the predictions are good.\n",
    "<br>Note: diagonal &#8594; predicted label = actual label\n",
    "<br><br>However, there are a number of misclassifications. Let's try to find the reason."
   ]
  },
  {
   "cell_type": "code",
   "execution_count": 15,
   "metadata": {},
   "outputs": [
    {
     "name": "stdout",
     "output_type": "stream",
     "text": [
      "'Credit reporting, credit repair services, or other personal consumer reports' predicted as 'Debt collection' : 46 examples.\n"
     ]
    },
    {
     "data": {
      "text/html": [
       "<div>\n",
       "<style scoped>\n",
       "    .dataframe tbody tr th:only-of-type {\n",
       "        vertical-align: middle;\n",
       "    }\n",
       "\n",
       "    .dataframe tbody tr th {\n",
       "        vertical-align: top;\n",
       "    }\n",
       "\n",
       "    .dataframe thead th {\n",
       "        text-align: right;\n",
       "    }\n",
       "</style>\n",
       "<table border=\"1\" class=\"dataframe\">\n",
       "  <thead>\n",
       "    <tr style=\"text-align: right;\">\n",
       "      <th></th>\n",
       "      <th>Product</th>\n",
       "      <th>Consumer_complaint_narrative</th>\n",
       "    </tr>\n",
       "  </thead>\n",
       "  <tbody>\n",
       "    <tr>\n",
       "      <td>32235</td>\n",
       "      <td>Credit reporting, credit repair services, or o...</td>\n",
       "      <td>XXXX XXXX XXXX XXXX account # XXXX amount due ...</td>\n",
       "    </tr>\n",
       "    <tr>\n",
       "      <td>22923</td>\n",
       "      <td>Credit reporting, credit repair services, or o...</td>\n",
       "      <td>I had my credit report ran, and found out that...</td>\n",
       "    </tr>\n",
       "    <tr>\n",
       "      <td>44388</td>\n",
       "      <td>Credit reporting, credit repair services, or o...</td>\n",
       "      <td>There was a collection on my account from XXXX...</td>\n",
       "    </tr>\n",
       "    <tr>\n",
       "      <td>22691</td>\n",
       "      <td>Credit reporting, credit repair services, or o...</td>\n",
       "      <td>I have filed disputes with transunion, XXXX an...</td>\n",
       "    </tr>\n",
       "    <tr>\n",
       "      <td>24702</td>\n",
       "      <td>Credit reporting, credit repair services, or o...</td>\n",
       "      <td>I just recently reviewed my credit report and ...</td>\n",
       "    </tr>\n",
       "    <tr>\n",
       "      <td>7151</td>\n",
       "      <td>Credit reporting, credit repair services, or o...</td>\n",
       "      <td>I have disputed the age of a medical bill at l...</td>\n",
       "    </tr>\n",
       "    <tr>\n",
       "      <td>39796</td>\n",
       "      <td>Credit reporting, credit repair services, or o...</td>\n",
       "      <td>XXXX has jacked up my bill from a legitimate a...</td>\n",
       "    </tr>\n",
       "    <tr>\n",
       "      <td>53310</td>\n",
       "      <td>Credit reporting, credit repair services, or o...</td>\n",
       "      <td>Hello. \\n\\nI originally had a collection accou...</td>\n",
       "    </tr>\n",
       "    <tr>\n",
       "      <td>49011</td>\n",
       "      <td>Credit reporting, credit repair services, or o...</td>\n",
       "      <td>i have been receiving calls from this company ...</td>\n",
       "    </tr>\n",
       "    <tr>\n",
       "      <td>11902</td>\n",
       "      <td>Credit reporting, credit repair services, or o...</td>\n",
       "      <td>I sent a certified letter to ProCollect regard...</td>\n",
       "    </tr>\n",
       "    <tr>\n",
       "      <td>50257</td>\n",
       "      <td>Credit reporting, credit repair services, or o...</td>\n",
       "      <td>I received a notice from XXXX XXXX about a pas...</td>\n",
       "    </tr>\n",
       "    <tr>\n",
       "      <td>53508</td>\n",
       "      <td>Credit reporting, credit repair services, or o...</td>\n",
       "      <td>I previously had an account with Synchrony Ban...</td>\n",
       "    </tr>\n",
       "    <tr>\n",
       "      <td>17196</td>\n",
       "      <td>Credit reporting, credit repair services, or o...</td>\n",
       "      <td>I tried to run my credit to buy a house found ...</td>\n",
       "    </tr>\n",
       "    <tr>\n",
       "      <td>46339</td>\n",
       "      <td>Credit reporting, credit repair services, or o...</td>\n",
       "      <td>At the end of my lease agreement with XXXX XXX...</td>\n",
       "    </tr>\n",
       "    <tr>\n",
       "      <td>40903</td>\n",
       "      <td>Credit reporting, credit repair services, or o...</td>\n",
       "      <td>When responding to Chase 's letter I call and ...</td>\n",
       "    </tr>\n",
       "    <tr>\n",
       "      <td>55763</td>\n",
       "      <td>Credit reporting, credit repair services, or o...</td>\n",
       "      <td>TCS is incorrectly reporting the date of delin...</td>\n",
       "    </tr>\n",
       "    <tr>\n",
       "      <td>45787</td>\n",
       "      <td>Credit reporting, credit repair services, or o...</td>\n",
       "      <td>XX/XX/2017 I signed up with Freedom Debt Relie...</td>\n",
       "    </tr>\n",
       "    <tr>\n",
       "      <td>55593</td>\n",
       "      <td>Credit reporting, credit repair services, or o...</td>\n",
       "      <td>On XX/XX/2019 I applied for a small business l...</td>\n",
       "    </tr>\n",
       "    <tr>\n",
       "      <td>36094</td>\n",
       "      <td>Credit reporting, credit repair services, or o...</td>\n",
       "      <td>On XX/XX/XXXX, I moved from a apartment comple...</td>\n",
       "    </tr>\n",
       "    <tr>\n",
       "      <td>52597</td>\n",
       "      <td>Credit reporting, credit repair services, or o...</td>\n",
       "      <td>Credit account opened over 10 years ago fullfi...</td>\n",
       "    </tr>\n",
       "    <tr>\n",
       "      <td>35101</td>\n",
       "      <td>Credit reporting, credit repair services, or o...</td>\n",
       "      <td>I have a collection listed for XXXX XXXX XXXX,...</td>\n",
       "    </tr>\n",
       "    <tr>\n",
       "      <td>2742</td>\n",
       "      <td>Credit reporting, credit repair services, or o...</td>\n",
       "      <td>progressive ftc violation showing</td>\n",
       "    </tr>\n",
       "    <tr>\n",
       "      <td>39790</td>\n",
       "      <td>Credit reporting, credit repair services, or o...</td>\n",
       "      <td>On XX/XX/2019, I received a alert via my email...</td>\n",
       "    </tr>\n",
       "    <tr>\n",
       "      <td>28982</td>\n",
       "      <td>Credit reporting, credit repair services, or o...</td>\n",
       "      <td>I have one collection from XXXX XXXX XXXX for ...</td>\n",
       "    </tr>\n",
       "    <tr>\n",
       "      <td>44488</td>\n",
       "      <td>Credit reporting, credit repair services, or o...</td>\n",
       "      <td>XXXX XXXX has wrongfully verified information ...</td>\n",
       "    </tr>\n",
       "    <tr>\n",
       "      <td>44867</td>\n",
       "      <td>Credit reporting, credit repair services, or o...</td>\n",
       "      <td>I had an old account through XXXX XXXX that wa...</td>\n",
       "    </tr>\n",
       "    <tr>\n",
       "      <td>21260</td>\n",
       "      <td>Credit reporting, credit repair services, or o...</td>\n",
       "      <td>I was made aware of 8 fraudulent student loan ...</td>\n",
       "    </tr>\n",
       "    <tr>\n",
       "      <td>41124</td>\n",
       "      <td>Credit reporting, credit repair services, or o...</td>\n",
       "      <td>On XX/XX/XXXX I went to XXXX XXXX and purchase...</td>\n",
       "    </tr>\n",
       "    <tr>\n",
       "      <td>45918</td>\n",
       "      <td>Credit reporting, credit repair services, or o...</td>\n",
       "      <td>I am writing to file a complaint about XXXX. I...</td>\n",
       "    </tr>\n",
       "    <tr>\n",
       "      <td>16821</td>\n",
       "      <td>Credit reporting, credit repair services, or o...</td>\n",
       "      <td>I am in received some letters from XXXX XXXX  ...</td>\n",
       "    </tr>\n",
       "    <tr>\n",
       "      <td>54621</td>\n",
       "      <td>Credit reporting, credit repair services, or o...</td>\n",
       "      <td>I went to buy a vehicle and the auto company s...</td>\n",
       "    </tr>\n",
       "    <tr>\n",
       "      <td>19390</td>\n",
       "      <td>Credit reporting, credit repair services, or o...</td>\n",
       "      <td>XX/XX/19 : Paid XXXX XXXX what should have bee...</td>\n",
       "    </tr>\n",
       "    <tr>\n",
       "      <td>35059</td>\n",
       "      <td>Credit reporting, credit repair services, or o...</td>\n",
       "      <td>I was a XXXX customer. I wasn't satisfied and ...</td>\n",
       "    </tr>\n",
       "    <tr>\n",
       "      <td>55234</td>\n",
       "      <td>Credit reporting, credit repair services, or o...</td>\n",
       "      <td>Jefferson Capital Systems is showing that I op...</td>\n",
       "    </tr>\n",
       "    <tr>\n",
       "      <td>2491</td>\n",
       "      <td>Credit reporting, credit repair services, or o...</td>\n",
       "      <td>I do not have a signed contract nor any contra...</td>\n",
       "    </tr>\n",
       "    <tr>\n",
       "      <td>38868</td>\n",
       "      <td>Credit reporting, credit repair services, or o...</td>\n",
       "      <td>I tried to work this out with XXXX XXXX XXXX X...</td>\n",
       "    </tr>\n",
       "    <tr>\n",
       "      <td>44903</td>\n",
       "      <td>Credit reporting, credit repair services, or o...</td>\n",
       "      <td>After noticing Midland Funding LLC was on my c...</td>\n",
       "    </tr>\n",
       "    <tr>\n",
       "      <td>55102</td>\n",
       "      <td>Credit reporting, credit repair services, or o...</td>\n",
       "      <td>A collection for XXXX XXXX XXXX XXXX was dispu...</td>\n",
       "    </tr>\n",
       "    <tr>\n",
       "      <td>54155</td>\n",
       "      <td>Credit reporting, credit repair services, or o...</td>\n",
       "      <td>XX/XX/2018 XXXX XXXX XXXX placed an item on my...</td>\n",
       "    </tr>\n",
       "    <tr>\n",
       "      <td>6449</td>\n",
       "      <td>Credit reporting, credit repair services, or o...</td>\n",
       "      <td>Messerli &amp; Kramer received a judgement against...</td>\n",
       "    </tr>\n",
       "    <tr>\n",
       "      <td>31706</td>\n",
       "      <td>Credit reporting, credit repair services, or o...</td>\n",
       "      <td>I HAVE CONTACTED YOUR COMPANY BEFORE CONCERNIN...</td>\n",
       "    </tr>\n",
       "    <tr>\n",
       "      <td>2223</td>\n",
       "      <td>Credit reporting, credit repair services, or o...</td>\n",
       "      <td>On XX/XX/2019, I received a call from a collec...</td>\n",
       "    </tr>\n",
       "    <tr>\n",
       "      <td>54021</td>\n",
       "      <td>Credit reporting, credit repair services, or o...</td>\n",
       "      <td>XX/XX/2018 XXXX XXXX XXXX placed an item on my...</td>\n",
       "    </tr>\n",
       "    <tr>\n",
       "      <td>44871</td>\n",
       "      <td>Credit reporting, credit repair services, or o...</td>\n",
       "      <td>Lvnv XXXX was settled by me some time back I w...</td>\n",
       "    </tr>\n",
       "    <tr>\n",
       "      <td>8445</td>\n",
       "      <td>Credit reporting, credit repair services, or o...</td>\n",
       "      <td>What is the complaint about? \\nThis complaint ...</td>\n",
       "    </tr>\n",
       "    <tr>\n",
       "      <td>40621</td>\n",
       "      <td>Credit reporting, credit repair services, or o...</td>\n",
       "      <td>Commonwealth finance is reporting a fraudulent...</td>\n",
       "    </tr>\n",
       "  </tbody>\n",
       "</table>\n",
       "</div>"
      ],
      "text/plain": [
       "                                                 Product  \\\n",
       "32235  Credit reporting, credit repair services, or o...   \n",
       "22923  Credit reporting, credit repair services, or o...   \n",
       "44388  Credit reporting, credit repair services, or o...   \n",
       "22691  Credit reporting, credit repair services, or o...   \n",
       "24702  Credit reporting, credit repair services, or o...   \n",
       "7151   Credit reporting, credit repair services, or o...   \n",
       "39796  Credit reporting, credit repair services, or o...   \n",
       "53310  Credit reporting, credit repair services, or o...   \n",
       "49011  Credit reporting, credit repair services, or o...   \n",
       "11902  Credit reporting, credit repair services, or o...   \n",
       "50257  Credit reporting, credit repair services, or o...   \n",
       "53508  Credit reporting, credit repair services, or o...   \n",
       "17196  Credit reporting, credit repair services, or o...   \n",
       "46339  Credit reporting, credit repair services, or o...   \n",
       "40903  Credit reporting, credit repair services, or o...   \n",
       "55763  Credit reporting, credit repair services, or o...   \n",
       "45787  Credit reporting, credit repair services, or o...   \n",
       "55593  Credit reporting, credit repair services, or o...   \n",
       "36094  Credit reporting, credit repair services, or o...   \n",
       "52597  Credit reporting, credit repair services, or o...   \n",
       "35101  Credit reporting, credit repair services, or o...   \n",
       "2742   Credit reporting, credit repair services, or o...   \n",
       "39790  Credit reporting, credit repair services, or o...   \n",
       "28982  Credit reporting, credit repair services, or o...   \n",
       "44488  Credit reporting, credit repair services, or o...   \n",
       "44867  Credit reporting, credit repair services, or o...   \n",
       "21260  Credit reporting, credit repair services, or o...   \n",
       "41124  Credit reporting, credit repair services, or o...   \n",
       "45918  Credit reporting, credit repair services, or o...   \n",
       "16821  Credit reporting, credit repair services, or o...   \n",
       "54621  Credit reporting, credit repair services, or o...   \n",
       "19390  Credit reporting, credit repair services, or o...   \n",
       "35059  Credit reporting, credit repair services, or o...   \n",
       "55234  Credit reporting, credit repair services, or o...   \n",
       "2491   Credit reporting, credit repair services, or o...   \n",
       "38868  Credit reporting, credit repair services, or o...   \n",
       "44903  Credit reporting, credit repair services, or o...   \n",
       "55102  Credit reporting, credit repair services, or o...   \n",
       "54155  Credit reporting, credit repair services, or o...   \n",
       "6449   Credit reporting, credit repair services, or o...   \n",
       "31706  Credit reporting, credit repair services, or o...   \n",
       "2223   Credit reporting, credit repair services, or o...   \n",
       "54021  Credit reporting, credit repair services, or o...   \n",
       "44871  Credit reporting, credit repair services, or o...   \n",
       "8445   Credit reporting, credit repair services, or o...   \n",
       "40621  Credit reporting, credit repair services, or o...   \n",
       "\n",
       "                            Consumer_complaint_narrative  \n",
       "32235  XXXX XXXX XXXX XXXX account # XXXX amount due ...  \n",
       "22923  I had my credit report ran, and found out that...  \n",
       "44388  There was a collection on my account from XXXX...  \n",
       "22691  I have filed disputes with transunion, XXXX an...  \n",
       "24702  I just recently reviewed my credit report and ...  \n",
       "7151   I have disputed the age of a medical bill at l...  \n",
       "39796  XXXX has jacked up my bill from a legitimate a...  \n",
       "53310  Hello. \\n\\nI originally had a collection accou...  \n",
       "49011  i have been receiving calls from this company ...  \n",
       "11902  I sent a certified letter to ProCollect regard...  \n",
       "50257  I received a notice from XXXX XXXX about a pas...  \n",
       "53508  I previously had an account with Synchrony Ban...  \n",
       "17196  I tried to run my credit to buy a house found ...  \n",
       "46339  At the end of my lease agreement with XXXX XXX...  \n",
       "40903  When responding to Chase 's letter I call and ...  \n",
       "55763  TCS is incorrectly reporting the date of delin...  \n",
       "45787  XX/XX/2017 I signed up with Freedom Debt Relie...  \n",
       "55593  On XX/XX/2019 I applied for a small business l...  \n",
       "36094  On XX/XX/XXXX, I moved from a apartment comple...  \n",
       "52597  Credit account opened over 10 years ago fullfi...  \n",
       "35101  I have a collection listed for XXXX XXXX XXXX,...  \n",
       "2742                   progressive ftc violation showing  \n",
       "39790  On XX/XX/2019, I received a alert via my email...  \n",
       "28982  I have one collection from XXXX XXXX XXXX for ...  \n",
       "44488  XXXX XXXX has wrongfully verified information ...  \n",
       "44867  I had an old account through XXXX XXXX that wa...  \n",
       "21260  I was made aware of 8 fraudulent student loan ...  \n",
       "41124  On XX/XX/XXXX I went to XXXX XXXX and purchase...  \n",
       "45918  I am writing to file a complaint about XXXX. I...  \n",
       "16821  I am in received some letters from XXXX XXXX  ...  \n",
       "54621  I went to buy a vehicle and the auto company s...  \n",
       "19390  XX/XX/19 : Paid XXXX XXXX what should have bee...  \n",
       "35059  I was a XXXX customer. I wasn't satisfied and ...  \n",
       "55234  Jefferson Capital Systems is showing that I op...  \n",
       "2491   I do not have a signed contract nor any contra...  \n",
       "38868  I tried to work this out with XXXX XXXX XXXX X...  \n",
       "44903  After noticing Midland Funding LLC was on my c...  \n",
       "55102  A collection for XXXX XXXX XXXX XXXX was dispu...  \n",
       "54155  XX/XX/2018 XXXX XXXX XXXX placed an item on my...  \n",
       "6449   Messerli & Kramer received a judgement against...  \n",
       "31706  I HAVE CONTACTED YOUR COMPANY BEFORE CONCERNIN...  \n",
       "2223   On XX/XX/2019, I received a call from a collec...  \n",
       "54021  XX/XX/2018 XXXX XXXX XXXX placed an item on my...  \n",
       "44871  Lvnv XXXX was settled by me some time back I w...  \n",
       "8445   What is the complaint about? \\nThis complaint ...  \n",
       "40621  Commonwealth finance is reporting a fraudulent...  "
      ]
     },
     "metadata": {},
     "output_type": "display_data"
    },
    {
     "name": "stdout",
     "output_type": "stream",
     "text": [
      "\n",
      "'Debt collection' predicted as 'Credit reporting, credit repair services, or other personal consumer reports' : 90 examples.\n"
     ]
    },
    {
     "data": {
      "text/html": [
       "<div>\n",
       "<style scoped>\n",
       "    .dataframe tbody tr th:only-of-type {\n",
       "        vertical-align: middle;\n",
       "    }\n",
       "\n",
       "    .dataframe tbody tr th {\n",
       "        vertical-align: top;\n",
       "    }\n",
       "\n",
       "    .dataframe thead th {\n",
       "        text-align: right;\n",
       "    }\n",
       "</style>\n",
       "<table border=\"1\" class=\"dataframe\">\n",
       "  <thead>\n",
       "    <tr style=\"text-align: right;\">\n",
       "      <th></th>\n",
       "      <th>Product</th>\n",
       "      <th>Consumer_complaint_narrative</th>\n",
       "    </tr>\n",
       "  </thead>\n",
       "  <tbody>\n",
       "    <tr>\n",
       "      <td>49457</td>\n",
       "      <td>Debt collection</td>\n",
       "      <td>Ive tried disputing this account reporting ina...</td>\n",
       "    </tr>\n",
       "    <tr>\n",
       "      <td>41958</td>\n",
       "      <td>Debt collection</td>\n",
       "      <td>I received a notification on Saturday XXXX XXX...</td>\n",
       "    </tr>\n",
       "    <tr>\n",
       "      <td>31979</td>\n",
       "      <td>Debt collection</td>\n",
       "      <td>XX/XX/XXXX I receive letter from collection ag...</td>\n",
       "    </tr>\n",
       "    <tr>\n",
       "      <td>48790</td>\n",
       "      <td>Debt collection</td>\n",
       "      <td>on XX/XX/XXXX XXXX XXXX XXXX XXXX sold debt th...</td>\n",
       "    </tr>\n",
       "    <tr>\n",
       "      <td>22320</td>\n",
       "      <td>Debt collection</td>\n",
       "      <td>Medicredit has mis-managed my account previous...</td>\n",
       "    </tr>\n",
       "    <tr>\n",
       "      <td>...</td>\n",
       "      <td>...</td>\n",
       "      <td>...</td>\n",
       "    </tr>\n",
       "    <tr>\n",
       "      <td>9993</td>\n",
       "      <td>Debt collection</td>\n",
       "      <td>2013 XXXX insurance paid off the total damaged...</td>\n",
       "    </tr>\n",
       "    <tr>\n",
       "      <td>51526</td>\n",
       "      <td>Debt collection</td>\n",
       "      <td>I filed for bankruptcy chapter XXXX on XX/XX/X...</td>\n",
       "    </tr>\n",
       "    <tr>\n",
       "      <td>14767</td>\n",
       "      <td>Debt collection</td>\n",
       "      <td>MARINER FINACE IS REPORT TO MY CREDIT REPORT A...</td>\n",
       "    </tr>\n",
       "    <tr>\n",
       "      <td>1209</td>\n",
       "      <td>Debt collection</td>\n",
       "      <td>I have no knowledge of this account or the cre...</td>\n",
       "    </tr>\n",
       "    <tr>\n",
       "      <td>47725</td>\n",
       "      <td>Debt collection</td>\n",
       "      <td>Syncb /walmart I filed a lost, stolen report r...</td>\n",
       "    </tr>\n",
       "  </tbody>\n",
       "</table>\n",
       "<p>90 rows × 2 columns</p>\n",
       "</div>"
      ],
      "text/plain": [
       "               Product                       Consumer_complaint_narrative\n",
       "49457  Debt collection  Ive tried disputing this account reporting ina...\n",
       "41958  Debt collection  I received a notification on Saturday XXXX XXX...\n",
       "31979  Debt collection  XX/XX/XXXX I receive letter from collection ag...\n",
       "48790  Debt collection  on XX/XX/XXXX XXXX XXXX XXXX XXXX sold debt th...\n",
       "22320  Debt collection  Medicredit has mis-managed my account previous...\n",
       "...                ...                                                ...\n",
       "9993   Debt collection  2013 XXXX insurance paid off the total damaged...\n",
       "51526  Debt collection  I filed for bankruptcy chapter XXXX on XX/XX/X...\n",
       "14767  Debt collection  MARINER FINACE IS REPORT TO MY CREDIT REPORT A...\n",
       "1209   Debt collection  I have no knowledge of this account or the cre...\n",
       "47725  Debt collection  Syncb /walmart I filed a lost, stolen report r...\n",
       "\n",
       "[90 rows x 2 columns]"
      ]
     },
     "metadata": {},
     "output_type": "display_data"
    },
    {
     "name": "stdout",
     "output_type": "stream",
     "text": [
      "\n"
     ]
    }
   ],
   "source": [
    "from IPython.display import display\n",
    "\n",
    "for predicted in category_id_df.category_id:\n",
    "    for actual in category_id_df.category_id:\n",
    "        if predicted != actual and conf_mat[actual, predicted] >= 40:\n",
    "            print(\"'{}' predicted as '{}' : {} examples.\".format(id_to_category[actual], id_to_category[predicted], conf_mat[actual, predicted]))\n",
    "            display(df.loc[indices_test[(y_test == actual) & (y_pred == predicted)]][['Product', 'Consumer_complaint_narrative']])\n",
    "            print('')"
   ]
  },
  {
   "cell_type": "markdown",
   "metadata": {},
   "source": [
    "Let's look the message **32235** in detail.\n",
    "<br>It was predicted as \"**Debt collection**\" instead of \"**Credit reporting, credit repair services, or other personal consumer reports**\"."
   ]
  },
  {
   "cell_type": "code",
   "execution_count": 16,
   "metadata": {},
   "outputs": [
    {
     "name": "stdout",
     "output_type": "stream",
     "text": [
      "XXXX XXXX XXXX XXXX account # XXXX amount due : {XXXX} provider of service : THE XXXX XXXX XXXX Under the FAIR DEBT COLLECTION PRACTICES ACT I am allowed to protect my privacy and medical records from third parties. I do not recall giving my permission to the XXXX XXXX XXXX to release my medical records to a third party. HIPAA does allow for limited information about me but anything more is to only be revealed with the patients authorization.\n"
     ]
    }
   ],
   "source": [
    "print(df.Consumer_complaint_narrative[32235])"
   ]
  },
  {
   "cell_type": "markdown",
   "metadata": {},
   "source": [
    "We can see that this complaint touch on more than one subject. That's why the prediction failed."
   ]
  }
 ],
 "metadata": {
  "kernelspec": {
   "display_name": "Python 3",
   "language": "python",
   "name": "python3"
  },
  "language_info": {
   "codemirror_mode": {
    "name": "ipython",
    "version": 3
   },
   "file_extension": ".py",
   "mimetype": "text/x-python",
   "name": "python",
   "nbconvert_exporter": "python",
   "pygments_lexer": "ipython3",
   "version": "3.6.7"
  }
 },
 "nbformat": 4,
 "nbformat_minor": 2
}
